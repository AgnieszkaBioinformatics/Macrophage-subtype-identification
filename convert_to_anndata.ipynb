{
  "nbformat": 4,
  "nbformat_minor": 0,
  "metadata": {
    "colab": {
      "provenance": []
    },
    "kernelspec": {
      "name": "python3",
      "display_name": "Python 3"
    },
    "language_info": {
      "name": "python"
    }
  },
  "cells": [
    {
      "cell_type": "code",
      "execution_count": null,
      "metadata": {
        "id": "_ZVQM_uVVwVq"
      },
      "outputs": [],
      "source": [
        "import numpy as np\n",
        "import pandas as pd\n",
        "import scanpy as sc\n",
        "import anndata\n",
        "from scipy import io"
      ]
    },
    {
      "cell_type": "markdown",
      "source": [
        "## fc"
      ],
      "metadata": {
        "id": "rTvghUVXaz3Q"
      }
    },
    {
      "cell_type": "code",
      "source": [
        "fc_x = io.mmread('/content/drive/MyDrive/dane2/fc_matrix.mtx')"
      ],
      "metadata": {
        "id": "umf1D85waW-c"
      },
      "execution_count": null,
      "outputs": []
    },
    {
      "cell_type": "code",
      "source": [
        "fc_adata = anndata.AnnData(X=fc_x.transpose().tocsr())"
      ],
      "metadata": {
        "id": "lx3RuBlua3rj"
      },
      "execution_count": null,
      "outputs": []
    },
    {
      "cell_type": "code",
      "source": [
        "fc_adata"
      ],
      "metadata": {
        "colab": {
          "base_uri": "https://localhost:8080/"
        },
        "id": "8JPWQgsgb_rS",
        "outputId": "e80cd313-f058-454c-892a-bed3d2b12b72"
      },
      "execution_count": null,
      "outputs": [
        {
          "output_type": "execute_result",
          "data": {
            "text/plain": [
              "AnnData object with n_obs × n_vars = 4870 × 31053"
            ]
          },
          "metadata": {},
          "execution_count": 16
        }
      ]
    },
    {
      "cell_type": "code",
      "source": [
        "fc1_metadata = pd.read_csv('/content/drive/MyDrive/dane2/fc_metadata.csv')"
      ],
      "metadata": {
        "id": "jvmGc30icPA9"
      },
      "execution_count": null,
      "outputs": []
    },
    {
      "cell_type": "code",
      "source": [
        "with open('/content/drive/MyDrive/dane2/fc_genenames.csv') as f:\n",
        "    gene_names = f.read().splitlines()"
      ],
      "metadata": {
        "id": "QukUMlz3c1dz"
      },
      "execution_count": null,
      "outputs": []
    },
    {
      "cell_type": "code",
      "source": [
        "fc_adata.obs = fc1_metadata\n",
        "fc_adata.obs.index = fc_adata.obs['barcode']\n",
        "fc_adata.var.index = gene_names"
      ],
      "metadata": {
        "id": "FGnggNZKl8PV"
      },
      "execution_count": null,
      "outputs": []
    },
    {
      "cell_type": "code",
      "source": [
        "fc_adata"
      ],
      "metadata": {
        "colab": {
          "base_uri": "https://localhost:8080/"
        },
        "id": "oP9BQmVgmhJa",
        "outputId": "146bb51d-f4e5-45a0-8cae-68f5103fe049"
      },
      "execution_count": null,
      "outputs": [
        {
          "output_type": "execute_result",
          "data": {
            "text/plain": [
              "AnnData object with n_obs × n_vars = 4870 × 31053\n",
              "    obs: 'orig.ident', 'nCount_RNA', 'nFeature_RNA', 'barcode'"
            ]
          },
          "metadata": {},
          "execution_count": 24
        }
      ]
    },
    {
      "cell_type": "code",
      "source": [
        "fc_adata.write('/content/drive/MyDrive/dane2/fc_1.h5ad')"
      ],
      "metadata": {
        "id": "6pHJBLzNmqMR"
      },
      "execution_count": null,
      "outputs": []
    },
    {
      "cell_type": "markdown",
      "source": [
        "## mc"
      ],
      "metadata": {
        "id": "0rgrCQj9oWVz"
      }
    },
    {
      "cell_type": "code",
      "source": [
        "mc_x = io.mmread('/content/drive/MyDrive/dane2/raw/mc_matrix.mtx')"
      ],
      "metadata": {
        "id": "dLeHw42Nmzwe"
      },
      "execution_count": null,
      "outputs": []
    },
    {
      "cell_type": "code",
      "source": [
        "mc_adata = anndata.AnnData(X=mc_x.transpose().tocsr())"
      ],
      "metadata": {
        "id": "_yxoHX9aoe11"
      },
      "execution_count": null,
      "outputs": []
    },
    {
      "cell_type": "code",
      "source": [
        "mc1_metadata = pd.read_csv('/content/drive/MyDrive/dane2/raw/mc_metadata.csv')"
      ],
      "metadata": {
        "id": "pHrWrrU3oiuS"
      },
      "execution_count": null,
      "outputs": []
    },
    {
      "cell_type": "code",
      "source": [
        "with open('/content/drive/MyDrive/dane2/raw/mc_genenames.csv') as f:\n",
        "    gene_names = f.read().splitlines()"
      ],
      "metadata": {
        "id": "XLjAygCtopK0"
      },
      "execution_count": null,
      "outputs": []
    },
    {
      "cell_type": "code",
      "source": [
        "mc_adata.obs = mc1_metadata\n",
        "mc_adata.obs.index = mc_adata.obs['barcode']\n",
        "mc_adata.var.index = gene_names"
      ],
      "metadata": {
        "id": "VxpK1RgJovvT"
      },
      "execution_count": null,
      "outputs": []
    },
    {
      "cell_type": "code",
      "source": [
        "mc_adata.write('/content/drive/MyDrive/dane2/mc_1.h5ad')"
      ],
      "metadata": {
        "id": "LXuuYgz0o9GQ"
      },
      "execution_count": null,
      "outputs": []
    },
    {
      "cell_type": "markdown",
      "source": [
        "## ft"
      ],
      "metadata": {
        "id": "N52jLzFuqEve"
      }
    },
    {
      "cell_type": "code",
      "source": [
        "ft_x = io.mmread('/content/drive/MyDrive/dane2/raw/ft_matrix.mtx')"
      ],
      "metadata": {
        "id": "DCTkqQcbqEc4"
      },
      "execution_count": null,
      "outputs": []
    },
    {
      "cell_type": "code",
      "source": [
        "ft_adata = anndata.AnnData(X=ft_x.transpose().tocsr())"
      ],
      "metadata": {
        "id": "_cHdLmugqV9-"
      },
      "execution_count": null,
      "outputs": []
    },
    {
      "cell_type": "code",
      "source": [
        "ft_metadata = pd.read_csv('/content/drive/MyDrive/dane2/raw/ft_metadata.csv')"
      ],
      "metadata": {
        "id": "yxBbMJs7qeWM"
      },
      "execution_count": null,
      "outputs": []
    }
  ]
}